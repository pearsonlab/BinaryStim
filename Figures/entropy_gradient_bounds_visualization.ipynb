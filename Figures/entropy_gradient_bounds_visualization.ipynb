{
 "cells": [
  {
   "cell_type": "code",
   "execution_count": 1,
   "metadata": {},
   "outputs": [],
   "source": [
    "import numpy as np\n",
    "import matplotlib.pyplot as plt\n",
    "import seaborn as sns\n",
    "plt.rcParams['text.usetex'] = True"
   ]
  },
  {
   "cell_type": "code",
   "execution_count": 2,
   "metadata": {},
   "outputs": [
    {
     "name": "stdout",
     "output_type": "stream",
     "text": [
      "0.7977\n"
     ]
    }
   ],
   "source": [
    "# set up parameters\n",
    "\n",
    "# range of data\n",
    "x = np.linspace(0, 1, 500)\n",
    "\n",
    "# min entropy points under independent model\n",
    "w0 = 1/2\n",
    "w = [0.5, 0.85, 0.70, 0.85, 0.8]\n",
    "a0 = 1 - np.prod(w)\n",
    "print(a0)\n",
    "\n",
    "# strong convexity\n",
    "sig = 4"
   ]
  },
  {
   "cell_type": "code",
   "execution_count": 3,
   "metadata": {},
   "outputs": [
    {
     "name": "stderr",
     "output_type": "stream",
     "text": [
      "/Users/jmxp/anaconda/lib/python3.5/site-packages/ipykernel/__main__.py:5: RuntimeWarning: divide by zero encountered in log\n"
     ]
    }
   ],
   "source": [
    "# strong convexity lower bound: w\n",
    "grad_H_sc = -sig * (x - w0)\n",
    "\n",
    "# independence lower bound\n",
    "grad_H_ind = -np.log(x) + np.log(1-x)\n",
    "\n",
    "# constraint-based bounds\n",
    "a, b = 0.2, 0.6\n",
    "grad_H_cons_lb = grad_H_ind + np.log(a) - np.log(1-a)\n",
    "grad_H_cons_ub = grad_H_ind + np.log(b) - np.log(1-b)\n",
    "\n",
    "# truncate last two based on constraints\n",
    "x_cons_valid = np.logical_and(x >= a, x <= b)"
   ]
  },
  {
   "cell_type": "code",
   "execution_count": null,
   "metadata": {
    "collapsed": true
   },
   "outputs": [],
   "source": [
    "sns.set_context('talk')\n",
    "palette = sns.color_palette()"
   ]
  },
  {
   "cell_type": "code",
   "execution_count": 4,
   "metadata": {},
   "outputs": [
    {
     "ename": "NameError",
     "evalue": "name 'palette' is not defined",
     "output_type": "error",
     "traceback": [
      "\u001b[0;31m---------------------------------------------------------------------------\u001b[0m",
      "\u001b[0;31mNameError\u001b[0m                                 Traceback (most recent call last)",
      "\u001b[0;32m<ipython-input-4-4acbd129a482>\u001b[0m in \u001b[0;36m<module>\u001b[0;34m()\u001b[0m\n\u001b[1;32m      1\u001b[0m \u001b[0mplt\u001b[0m\u001b[0;34m.\u001b[0m\u001b[0mplot\u001b[0m\u001b[0;34m(\u001b[0m\u001b[0mx\u001b[0m\u001b[0;34m,\u001b[0m \u001b[0mgrad_H_sc\u001b[0m\u001b[0;34m,\u001b[0m \u001b[0mlabel\u001b[0m\u001b[0;34m=\u001b[0m\u001b[0;34m'Strong Convexity'\u001b[0m\u001b[0;34m)\u001b[0m\u001b[0;34m\u001b[0m\u001b[0m\n\u001b[1;32m      2\u001b[0m \u001b[0mplt\u001b[0m\u001b[0;34m.\u001b[0m\u001b[0mplot\u001b[0m\u001b[0;34m(\u001b[0m\u001b[0mx\u001b[0m\u001b[0;34m,\u001b[0m \u001b[0mgrad_H_ind\u001b[0m\u001b[0;34m,\u001b[0m \u001b[0mlabel\u001b[0m \u001b[0;34m=\u001b[0m \u001b[0;34mr'Independent $w$'\u001b[0m\u001b[0;34m)\u001b[0m\u001b[0;34m\u001b[0m\u001b[0m\n\u001b[0;32m----> 3\u001b[0;31m plt.plot(x[x_cons_valid], grad_H_cons_lb[x_cons_valid], color=palette[2], \n\u001b[0m\u001b[1;32m      4\u001b[0m          linestyle='--')\n\u001b[1;32m      5\u001b[0m plt.plot(x[x_cons_valid], grad_H_cons_ub[x_cons_valid], color=palette[2], \n",
      "\u001b[0;31mNameError\u001b[0m: name 'palette' is not defined"
     ]
    },
    {
     "data": {
      "image/png": "[encoded data removed]",
      "text/plain": [
       "<Figure size 432x288 with 1 Axes>"
      ]
     },
     "metadata": {
      "needs_background": "light"
     },
     "output_type": "display_data"
    }
   ],
   "source": [
    "plt.plot(x, grad_H_sc, label='Strong Convexity')\n",
    "plt.plot(x, grad_H_ind, label = r'Independent $w$')\n",
    "plt.plot(x[x_cons_valid], grad_H_cons_lb[x_cons_valid], color=palette[2], \n",
    "         linestyle='--')\n",
    "plt.plot(x[x_cons_valid], grad_H_cons_ub[x_cons_valid], color=palette[2], \n",
    "         label='Primal Feasible')\n",
    "# plt.fill_between(x[x_cons_valid], grad_H_cons_lb[x_cons_valid],\n",
    "#                  grad_H_cons_ub[x_cons_valid], color=palette[0], alpha=0.1)\n",
    "plt.axvspan(a, b, color='black', alpha=0.1)\n",
    "\n",
    "plt.xlabel(r\"$w$\")\n",
    "plt.ylabel(r\"$\\nabla\\mathcal{H}$\")\n",
    "plt.legend()\n",
    "plt.xticks([0, 0.5, 1])"
   ]
  },
  {
   "cell_type": "code",
   "execution_count": null,
   "metadata": {},
   "outputs": [],
   "source": [
    "plt.plot(x, np.abs(grad_H_sc), label='Strong Convexity')\n",
    "plt.plot(x, np.abs(grad_H_ind), label=r'Independent $w$')\n",
    "abs_grad_H_cons_ub = np.maximum(np.abs(grad_H_cons_lb), np.abs(grad_H_cons_ub))\n",
    "abs_grad_H_cons_lb = np.minimum(np.abs(grad_H_cons_lb), np.abs(grad_H_cons_ub)) \n",
    "\n",
    "plt.plot(x[x_cons_valid], abs_grad_H_cons_lb[x_cons_valid], \n",
    "         color=palette[2], linestyle='--')\n",
    "plt.plot(x[x_cons_valid], abs_grad_H_cons_ub[x_cons_valid], \n",
    "         color=palette[2], label='Primal Feasible')\n",
    "plt.axvspan(a, b, color='black', alpha=0.1)\n",
    "\n",
    "plt.xlabel(r\"$w$\")\n",
    "plt.ylabel(r\"$|\\nabla\\mathcal{H}|$\")\n",
    "plt.legend()\n",
    "plt.xticks([0, 0.5, 1])"
   ]
  },
  {
   "cell_type": "code",
   "execution_count": null,
   "metadata": {},
   "outputs": [],
   "source": [
    "# strong convexity lower bound: a\n",
    "grad_H_sc = -sig * (x - a0)\n",
    "\n",
    "# independence lower bound\n",
    "grad_H_ind = -np.log(x/a0) + np.log((1-x)/(1-a0))\n",
    "\n",
    "# constraint-based bounds\n",
    "a, b = np.max(w), np.minimum(np.sum(w), 1 - 1e-6)\n",
    "print(a, b)\n",
    "\n",
    "grad_H_cons_lb = grad_H_ind + np.log(a) - np.log(1-a)\n",
    "grad_H_cons_ub = grad_H_ind + np.log(b) - np.log(1-b)\n",
    "\n",
    "# truncate last two based on constraints\n",
    "x_cons_valid = np.logical_and(x >= a, x <= b)"
   ]
  },
  {
   "cell_type": "code",
   "execution_count": null,
   "metadata": {},
   "outputs": [],
   "source": [
    "plt.plot(x, grad_H_sc, label='Strong Convexity')\n",
    "plt.plot(x, grad_H_ind, label = r'Independent $w$')\n",
    "plt.plot(x[x_cons_valid], grad_H_cons_lb[x_cons_valid], color=palette[2], \n",
    "         linestyle='--')\n",
    "plt.plot(x[x_cons_valid], grad_H_cons_ub[x_cons_valid], color=palette[2], \n",
    "         label='Primal Feasible')\n",
    "# plt.fill_between(x[x_cons_valid], grad_H_cons_lb[x_cons_valid],\n",
    "#                  grad_H_cons_ub[x_cons_valid], color=palette[0], alpha=0.1)\n",
    "plt.axvspan(a, b, color='black', alpha=0.1)\n",
    "\n",
    "plt.xlabel(r\"$a$\")\n",
    "plt.ylabel(r\"$\\nabla\\mathcal{H}$\")\n",
    "plt.legend()\n",
    "plt.xticks([0, 0.5, 1])"
   ]
  },
  {
   "cell_type": "code",
   "execution_count": null,
   "metadata": {},
   "outputs": [],
   "source": [
    "plt.plot(x, np.abs(grad_H_sc), label='Strong Convexity')\n",
    "plt.plot(x, np.abs(grad_H_ind), label=r'Independent $w$')\n",
    "abs_grad_H_cons_ub = np.maximum(np.abs(grad_H_cons_lb), np.abs(grad_H_cons_ub))\n",
    "abs_grad_H_cons_lb = np.minimum(np.abs(grad_H_cons_lb), np.abs(grad_H_cons_ub)) \n",
    "\n",
    "plt.plot(x[x_cons_valid], abs_grad_H_cons_lb[x_cons_valid], \n",
    "         color=palette[2], linestyle='--')\n",
    "plt.plot(x[x_cons_valid], abs_grad_H_cons_ub[x_cons_valid], \n",
    "         color=palette[2], label='Primal Feasible')\n",
    "plt.axvspan(a, b, color='black', alpha=0.1)\n",
    "\n",
    "plt.xlabel(r\"$a$\")\n",
    "plt.ylabel(r\"$|\\nabla\\mathcal{H}|$\")\n",
    "plt.legend()\n",
    "plt.xticks([0, 0.5, 1])"
   ]
  },
  {
   "cell_type": "code",
   "execution_count": null,
   "metadata": {
    "collapsed": true
   },
   "outputs": [],
   "source": []
  },
  {
   "cell_type": "code",
   "execution_count": null,
   "metadata": {
    "collapsed": true
   },
   "outputs": [],
   "source": []
  },
  {
   "cell_type": "code",
   "execution_count": null,
   "metadata": {
    "collapsed": true
   },
   "outputs": [],
   "source": []
  }
 ],
 "metadata": {
  "anaconda-cloud": {},
  "kernelspec": {
   "display_name": "Python [anaconda]",
   "language": "python",
   "name": "Python [anaconda]"
  },
  "language_info": {
   "codemirror_mode": {
    "name": "ipython",
    "version": 3
   },
   "file_extension": ".py",
   "mimetype": "text/x-python",
   "name": "python",
   "nbconvert_exporter": "python",
   "pygments_lexer": "ipython3",
   "version": "3.5.6"
  }
 },
 "nbformat": 4,
 "nbformat_minor": 1
}
